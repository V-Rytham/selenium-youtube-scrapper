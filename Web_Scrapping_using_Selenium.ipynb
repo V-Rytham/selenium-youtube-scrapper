{
 "cells": [
  {
   "cell_type": "markdown",
   "id": "fa648136-8b70-493e-b295-1de9284c31b3",
   "metadata": {},
   "source": [
    "# TubeTracker: Automated Trending Video Scraper and Email Notifier"
   ]
  },
  {
   "attachments": {
    "bbc4d8d0-4b6e-4675-90d1-80c2b291b4bb.webp": {
     "image/webp": "[encoded data removed]"
    }
   },
   "cell_type": "markdown",
   "id": "6660de4d-4e90-4d54-b3aa-7480cd99a0ae",
   "metadata": {},
   "source": [
    "![Where-is-Trending-Option-on-YouTube.webp](attachment:bbc4d8d0-4b6e-4675-90d1-80c2b291b4bb.webp)"
   ]
  },
  {
   "cell_type": "markdown",
   "id": "b0bb73f5-8f6d-4c8e-9d4f-024b5727dfbc",
   "metadata": {},
   "source": [
    "## About Selenium : \n",
    "`Selenium` is a popular open-source tool used for automating web browsers.\n",
    "\n",
    "In this project, Selenium's role is to automate the process of scraping the top trending page of YouTube. It will be used to launch a web browser, navigate to the `Youtube trending page`, extract information about the top trending videos, such as their titles, view counts, and URLs, and then send this data to the desired email address. By leveraging Selenium, the project can achieve web scraping in a controlled and automated manner, making it easier to collect and process the required information from YouTube."
   ]
  },
  {
   "cell_type": "markdown",
   "id": "da18b539-9e5e-46bd-b146-d97f9dc291a6",
   "metadata": {},
   "source": [
    "    This project leverages Selenium for automating web interactions and parsing dynamic content, along with smtplib for sending emails. Selenium enables the script to simulate user actions like clicking buttons and navigating through web pages, crucial for scraping dynamic content from websites like YouTube. Meanwhile, smtplib facilitates sending the extracted data via email, ensuring seamless communication of information to desired recipients."
   ]
  },
  {
   "cell_type": "markdown",
   "id": "a334e763-f488-490a-98b4-6188c47962a2",
   "metadata": {},
   "source": [
    "Here are the steps we would follow:\n",
    "- Extract information about the top 10 trending videos.\n",
    "- Collect data such as video title, channel name, view count, and video URL.\n",
    "- Save the extracted data into a CSV file.\n",
    "- Use smtplib to send the CSV file via email"
   ]
  },
  {
   "cell_type": "markdown",
   "id": "d26cab20-535e-4378-bc80-e8631e01027b",
   "metadata": {},
   "source": [
    "### Why `Selenium` and not `Beautiful Soup` \n",
    "    BeautifulSoup:\n",
    "        Think of BeautifulSoup as a tool that helps you make sense of a messy book. You give it a messy book (HTML webpage), and it helps you find and extract the information you need from that book.\n",
    "        It's great for scraping information from web pages that are mostly just text and images, like reading a recipe from a cooking website.\n",
    "    \n",
    "    Selenium: \n",
    "        Now, imagine you want to get information from a magical book that changes its pages as you read it. This book (web page) has buttons you need to click to reveal the next part of the story.\n",
    "        Selenium is like a magical hand that can turn the pages and click the buttons for you. It interacts with the webpage just like a real person would, so you can scrape the information you need even from dynamic or interactive websites, like YouTube's trending page that updates in real-time.\n",
    "\n",
    "-  In the context of scraping the top trending page of YouTube, since the trending page relies heavily on JavaScript to load and display content dynamically, Selenium would be a better choice as it can simulate user interactions and wait for the content to load before scraping it."
   ]
  },
  {
   "cell_type": "markdown",
   "id": "92ad4ab8-69ec-4fc3-a420-ece9ed0d0756",
   "metadata": {},
   "source": [
    "## Lets begin:"
   ]
  },
  {
   "cell_type": "code",
   "execution_count": 11,
   "id": "13d51e79-b42f-4679-a1fe-7102da5e0c46",
   "metadata": {},
   "outputs": [],
   "source": [
    "from selenium import webdriver\n",
    "from selenium.webdriver.chrome.options import Options\n",
    "from selenium.webdriver.common.by import By"
   ]
  },
  {
   "cell_type": "code",
   "execution_count": 12,
   "id": "362c1db5-a5f5-434d-bfbd-e8e59c09d42d",
   "metadata": {},
   "outputs": [],
   "source": [
    "# This function creates a WebDriver instance for Google Chrome with specific options configured.\n",
    "def get_driver():\n",
    "    # Create an instance of ChromeOptions, allowing us to set various browser options.\n",
    "    chrome_options = webdriver.ChromeOptions()\n",
    "    \n",
    "    # Configure Chrome options:\n",
    "    # Disable sandboxing to prevent issues in certain environments.\n",
    "    chrome_options.add_argument('--no-sandbox')\n",
    "    \n",
    "    # Run Chrome in headless mode (without a graphical interface) for automated tasks.\n",
    "    chrome_options.add_argument('--headless')\n",
    "    \n",
    "    # Create a WebDriver instance for Google Chrome with the configured options.\n",
    "    driver = webdriver.Chrome(options=chrome_options)\n",
    "    \n",
    "    # Return the WebDriver instance for further use.\n",
    "    return driver\n"
   ]
  },
  {
   "cell_type": "markdown",
   "id": "fda80fd6-bdd1-42e9-9544-34f91f3965bf",
   "metadata": {},
   "source": [
    "The first cell imports necessary modules and submodules required in this project. `webdriver` is a submodule in selnium which further \n",
    "contains submodules which have `options` and `by` classes.The Options class is used to create a `webdriver`. A `WebDriver` is a tool or interface that allows you to automate interactions with a web browser. It provides a way to control a browser programmatically. WebDriver implementations exist for different web browsers, such as Chrome, Firefox, Safari, and Edge. They provide a standardized way to interact with browsers using various programming languages, making it easier to automate web tasks and perform web testing.\n",
    "\n",
    "So the next cell was a function which uses the above classes and send us the webdrive for interaction with Chrome browser."
   ]
  },
  {
   "cell_type": "code",
   "execution_count": 13,
   "id": "972a33d9-df8c-4a76-9494-5c469826a750",
   "metadata": {},
   "outputs": [],
   "source": [
    "driver=get_driver()"
   ]
  },
  {
   "cell_type": "markdown",
   "id": "f9f3a9b7-afef-46f8-8650-2bd222cf2385",
   "metadata": {},
   "source": [
    "A driver object is created upon invoking the `get_driver` function which now will be used for interacting with the `trending page` of youtube programatically"
   ]
  },
  {
   "cell_type": "code",
   "execution_count": 14,
   "id": "d9abdecd-8223-41f9-8a74-23689a90f8d9",
   "metadata": {},
   "outputs": [],
   "source": [
    "YOUTUBE_TRENDING_URL = 'https://www.youtube.com/feed/trending'"
   ]
  },
  {
   "cell_type": "markdown",
   "id": "6c57b4bc-85d8-46f4-a7ea-9ffe7b476afc",
   "metadata": {},
   "source": [
    "`YOUTUBE_TRENDING_URL` is the link which will be parsed"
   ]
  },
  {
   "cell_type": "code",
   "execution_count": 16,
   "id": "d6372673-886a-47bc-84d5-7376f7dd294c",
   "metadata": {},
   "outputs": [],
   "source": [
    "driver.get(YOUTUBE_TRENDING_URL)"
   ]
  },
  {
   "cell_type": "markdown",
   "id": "d9a7e8a4-1b35-4416-8058-c7c625bd2b4a",
   "metadata": {},
   "source": [
    "The driver object created has a method `get()` which takes the URL as an argument and instructs the WebDriver to open the specified URL."
   ]
  },
  {
   "cell_type": "code",
   "execution_count": 33,
   "id": "a3a66387-d446-40aa-bb66-6b7612770413",
   "metadata": {},
   "outputs": [
    {
     "data": {
      "text/plain": [
       "list"
      ]
     },
     "execution_count": 33,
     "metadata": {},
     "output_type": "execute_result"
    }
   ],
   "source": [
    "VIDEO_DIV_TAG = 'ytd-video-renderer'\n",
    "videos = driver.find_elements(By.TAG_NAME, VIDEO_DIV_TAG)\n",
    "type(videos)"
   ]
  },
  {
   "cell_type": "markdown",
   "id": "faccd937-e562-47a6-b3f8-c61fbc716c76",
   "metadata": {},
   "source": [
    "At this step the driver is instructed to find those elements by their `tag` having the given `VIDEO_DIV_TAG`. This is done using the `find_elements()` method which returns a WebElement object representing that element."
   ]
  },
  {
   "cell_type": "markdown",
   "id": "8104e7fa-5298-4d10-91d9-047312fdaaf5",
   "metadata": {},
   "source": [
    "Lets retrieve the the `Title` of the first video in the page. first we will store the element of the first video into a variable `video`, then we will use the `find_element()` method to retrieve the title_tag element and then at last `.text` attribute is used to retrieve the text(basically the title of the video)."
   ]
  },
  {
   "cell_type": "markdown",
   "id": "7e3ef512-a8e0-4840-804b-c53c2f0c9f9c",
   "metadata": {},
   "source": [
    "#### Title"
   ]
  },
  {
   "cell_type": "code",
   "execution_count": 43,
   "id": "5430c86b-55b7-4867-91f6-0aa56915f29c",
   "metadata": {},
   "outputs": [
    {
     "data": {
      "text/plain": [
       "'Happy Holi Babu | the mridul | Pragati | Nitin'"
      ]
     },
     "execution_count": 43,
     "metadata": {},
     "output_type": "execute_result"
    }
   ],
   "source": [
    "video=videos[0]\n",
    "title_tag = video.find_element(By.ID, 'video-title')\n",
    "title_tag.text"
   ]
  },
  {
   "cell_type": "markdown",
   "id": "b0f60fd5-22c6-4b3d-9f25-da8911c37019",
   "metadata": {},
   "source": [
    "#### URL :\n",
    "We can use the `get_attribute()` method to get the url of the video."
   ]
  },
  {
   "cell_type": "code",
   "execution_count": 53,
   "id": "6f1d62d8-05ad-4668-8386-2c1ff1f5a7a8",
   "metadata": {},
   "outputs": [
    {
     "data": {
      "text/plain": [
       "'https://www.youtube.com/watch?v=Xlkd8gdSNBo'"
      ]
     },
     "execution_count": 53,
     "metadata": {},
     "output_type": "execute_result"
    }
   ],
   "source": [
    "title_tag.get_attribute('href') "
   ]
  },
  {
   "cell_type": "markdown",
   "id": "d948012b-6f4f-4d3d-9423-6d49f8125b9b",
   "metadata": {},
   "source": [
    "#### Thumbnail URL"
   ]
  },
  {
   "cell_type": "code",
   "execution_count": 51,
   "id": "283b073c-8afe-43b3-a931-a85515a858ea",
   "metadata": {},
   "outputs": [
    {
     "data": {
      "text/plain": [
       "'https://i.ytimg.com/vi/Xlkd8gdSNBo/hqdefault.jpg?sqp=-oaymwEcCPYBEIoBSFXyq4qpAw4IARUAAIhCGAFwAcABBg==&rs=AOn4CLBf_X3eUhO3xwLlPJfgjX3aU_f-Hg'"
      ]
     },
     "execution_count": 51,
     "metadata": {},
     "output_type": "execute_result"
    }
   ],
   "source": [
    "thumbnail_tag = video.find_element(By.TAG_NAME, 'img')\n",
    "thumbnail_tag.get_attribute('src')\n"
   ]
  },
  {
   "cell_type": "markdown",
   "id": "f41c4125-ae47-44a0-bb74-f0d9535c95ac",
   "metadata": {},
   "source": [
    "#### Channel Name"
   ]
  },
  {
   "cell_type": "code",
   "execution_count": 50,
   "id": "138594ab-5423-4c71-986f-f32f06e92ec3",
   "metadata": {},
   "outputs": [
    {
     "data": {
      "text/plain": [
       "'The MriDul'"
      ]
     },
     "execution_count": 50,
     "metadata": {},
     "output_type": "execute_result"
    }
   ],
   "source": [
    "channel_div = video.find_element(By.CLASS_NAME, 'ytd-channel-name')\n",
    "channel_div.text"
   ]
  },
  {
   "cell_type": "markdown",
   "id": "3c4a42df-fa1a-48c5-bbac-3eb80c33079a",
   "metadata": {},
   "source": [
    "#### Description"
   ]
  },
  {
   "cell_type": "code",
   "execution_count": 56,
   "id": "9cc2b7c6-c097-4b88-9649-d4aca47e9d76",
   "metadata": {},
   "outputs": [
    {
     "data": {
      "text/plain": [
       "'Hello Doston👋🏻🥰 Download Zupee App: https://app.adjust.com/1awq33sj?redirect=https%3A%2F%2Fwww.zupee.com%2F Code - MRIDUL15 “ आप हँसते रहो, हम हँसात...'"
      ]
     },
     "execution_count": 56,
     "metadata": {},
     "output_type": "execute_result"
    }
   ],
   "source": [
    "video.find_element(By.ID, 'description-text').text"
   ]
  },
  {
   "cell_type": "markdown",
   "id": "1d344944-ea6d-43f0-8386-da992d6d43aa",
   "metadata": {},
   "source": [
    "Now, we will write functions to combine what we have done above and get all the details at once for any given video element"
   ]
  },
  {
   "cell_type": "code",
   "execution_count": 100,
   "id": "30a4cb66-a29e-4dfa-81d4-c3454afcfac9",
   "metadata": {},
   "outputs": [],
   "source": [
    "def parse_video(video):\n",
    "  title_tag = video.find_element(By.ID, 'video-title')\n",
    "  title = title_tag.text\n",
    "  url = title_tag.get_attribute('href')\n",
    "  \n",
    "  thumbnail_tag = video.find_element(By.TAG_NAME, 'img')\n",
    "  thumbnail_url = thumbnail_tag.get_attribute('src')\n",
    "\n",
    "  channel_div = video.find_element(By.CLASS_NAME, 'ytd-channel-name')\n",
    "  channel_name = channel_div.text\n",
    "  \n",
    "  description = video.find_element(By.ID, 'description-text').text\n",
    "\n",
    "  return {\n",
    "    'title': title,\n",
    "    'url': url,\n",
    "    'thumbnail_url': thumbnail_url,\n",
    "    'channel': channel_name,\n",
    "    'description': description\n",
    "  }"
   ]
  },
  {
   "cell_type": "markdown",
   "id": "ba6852f8-afb5-4d8c-ba97-2fdbbb85c6c7",
   "metadata": {},
   "source": [
    "lets have information about third trending video "
   ]
  },
  {
   "cell_type": "code",
   "execution_count": 101,
   "id": "8442de8e-2b85-4e48-b58a-7911791f50b5",
   "metadata": {},
   "outputs": [
    {
     "data": {
      "text/plain": [
       "{'title': 'HOLI DHAMAAL 2024 || Rachit Rojha',\n",
       " 'url': 'https://www.youtube.com/watch?v=YoAPFqhLICc',\n",
       " 'thumbnail_url': None,\n",
       " 'channel': 'Rachit Rojha',\n",
       " 'description': 'Happy Holi Everyone 😍❤️ --------------------------------------------------------------------------------- Follow me on Instagram: https://www.instagram.com/rachitrojha ----------------------...'}"
      ]
     },
     "execution_count": 101,
     "metadata": {},
     "output_type": "execute_result"
    }
   ],
   "source": [
    "parse_video(videos[2])"
   ]
  },
  {
   "cell_type": "markdown",
   "id": "e9c7db0e-d727-4a15-9f95-6c2919c0ed6d",
   "metadata": {},
   "source": [
    "### Sending Result via email"
   ]
  },
  {
   "cell_type": "markdown",
   "id": "88a7aefe-bf53-4d76-ae15-cf5c18673fc3",
   "metadata": {},
   "source": [
    "We have parsed the page and got the necessary information succesfully. The next step is to send this information via sender's email to recieptent's email.For this we will use the `smtplib` and `os` libraries provided available. \n",
    "\n",
    "The below shown function takes the body of the email to be sent as parameter and sends the email to the reciever email provided to it. \n",
    "Steps the function follows:\n",
    "\n",
    "- This function sends an email using Gmail SMTP server with SSL encryption.\n",
    "    - The sender's email and password must be provided as environment variables.\n",
    "        - 'GMAIL_PASSWORD' must contain the sender's Gmail password.\n",
    "    - The recipient's email address is hardcoded within the function.\n",
    "    - The subject of the email is fixed to 'YouTube Trending Videos'.\n",
    "    - The email is sent in plain text format."
   ]
  },
  {
   "cell_type": "code",
   "execution_count": 59,
   "id": "7647b6a9-ca7b-4eab-a12d-3eaa6f986791",
   "metadata": {},
   "outputs": [],
   "source": [
    "def send_email(body):\n",
    "  try:\n",
    "    server_ssl = smtplib.SMTP_SSL('smtp.gmail.com', 465)\n",
    "    server_ssl.ehlo()   \n",
    "\n",
    "    SENDER_EMAIL = 'rythammaalpani44@gmail.com'\n",
    "    RECEIVER_EMAIL = 'frellancerytham@gmail.com'\n",
    "    SENDER_PASSWORD = os.environ['GMAIL_PASSWORD']\n",
    "    \n",
    "    subject = 'YouTube Trending Videos'\n",
    "\n",
    "    email_text = f\"\"\"\n",
    "    From: {SENDER_EMAIL}\n",
    "    To: {RECEIVER_EMAIL}\n",
    "    Subject: {subject}\n",
    "\n",
    "    {body}\n",
    "    \"\"\"\n",
    "\n",
    "    server_ssl.login(SENDER_EMAIL, SENDER_PASSWORD)\n",
    "    server_ssl.sendmail(SENDER_EMAIL, RECEIVER_EMAIL, email_text)\n",
    "    server_ssl.close()\n",
    "\n",
    "  except:\n",
    "      print('Something went wrong...')"
   ]
  },
  {
   "attachments": {},
   "cell_type": "markdown",
   "id": "0bfac42c-3112-4ca2-b3c5-29ceefdaf83e",
   "metadata": {},
   "source": [
    "## Summary \n",
    "\n",
    "Here's what we have done: \n",
    "\n",
    "-  Extract information about the top 10 trending videos.\n",
    "-  Collect data such as video title, channel name, view count, and video URL.\n",
    "-  Save the extracted data into a CSV file.\n",
    "-  Use smtplib to send the CSV file via email"
   ]
  },
  {
   "cell_type": "markdown",
   "id": "4529ac9e-1303-4bf0-baaf-1211c770d855",
   "metadata": {},
   "source": [
    "Now, we will write functions to combine what we have done above and get all the details of the top 10 trenidng videos"
   ]
  },
  {
   "cell_type": "code",
   "execution_count": 111,
   "id": "76c792d2-c06b-430a-a845-04f5a98ee6d3",
   "metadata": {
    "scrolled": true
   },
   "outputs": [
    {
     "name": "stdout",
     "output_type": "stream",
     "text": [
      "Creating driver\n",
      "Fetching trending videos\n",
      "Found 97 videos\n",
      "Parsing top 10 videos\n",
      "Save the data to a CSV\n",
      "                                               title  \\\n",
      "0     Happy Holi Babu | the mridul | Pragati | Nitin   \n",
      "1                         MY BEST HAPPY HOLI GADGETS   \n",
      "2                  HOLI DHAMAAL 2024 || Rachit Rojha   \n",
      "3  LOVE or ARRANGE MARRIGE ? QnA With My Wife 😂 D...   \n",
      "4  किससे छिप रहे है Dr.Haathi? | Taarak Mehta Ka ...   \n",
      "5  25 मार्च 2024 का चंद्र ग्रहण भारत में कितने बज...   \n",
      "6  The Great Indian Kapil Show Official Trailer |...   \n",
      "7  Ghum Hai Kisikey Pyaar Meiin | Ep.1164 | Highl...   \n",
      "8          Making The RIGHT Choice (HARD) | SlayyPop   \n",
      "9    I Paid A Lie Detector To Investigate My Friends   \n",
      "\n",
      "                                           url  \\\n",
      "0  https://www.youtube.com/watch?v=Xlkd8gdSNBo   \n",
      "1  https://www.youtube.com/watch?v=UDjvLknqNY8   \n",
      "2  https://www.youtube.com/watch?v=YoAPFqhLICc   \n",
      "3  https://www.youtube.com/watch?v=wT3b6OCIylU   \n",
      "4  https://www.youtube.com/watch?v=DgpC2De8bIc   \n",
      "5  https://www.youtube.com/watch?v=r0VCOp-3apE   \n",
      "6  https://www.youtube.com/watch?v=bftjfqS3v6k   \n",
      "7  https://www.youtube.com/watch?v=j95oz-teDrc   \n",
      "8  https://www.youtube.com/watch?v=bVXIqpecGO0   \n",
      "9  https://www.youtube.com/watch?v=YrVVXFMgXrw   \n",
      "\n",
      "                                       thumbnail_url            channel  \\\n",
      "0  https://i.ytimg.com/vi/Xlkd8gdSNBo/hqdefault.j...         The MriDul   \n",
      "1  https://i.ytimg.com/vi/UDjvLknqNY8/hqdefault.j...             Ujjwal   \n",
      "2                                               None       Rachit Rojha   \n",
      "3                                               None        Desi Gamers   \n",
      "4                                               None           Sony PAL   \n",
      "5                                               None  VK MISHRA PRESENT   \n",
      "6                                               None      Netflix India   \n",
      "7                                               None           StarPlus   \n",
      "8                                               None           SlayyPop   \n",
      "9                                               None          MrBeast 2   \n",
      "\n",
      "                                         description  \n",
      "0  Hello Doston👋🏻🥰 Download Zupee App: https://ap...  \n",
      "1  MY BEST HAPPY HOLI GADGETS #happyholi #technog...  \n",
      "2  Happy Holi Everyone 😍❤️ ----------------------...  \n",
      "3  Download Zupee Ludo - https://app.adjust.com/1...  \n",
      "4  Click here to subscribe to Sony Pal: https://w...  \n",
      "5  25 मार्च 2024 का चंद्र ग्रहण भारत में कितने बज...  \n",
      "6  India ho ya Mongolia, hasi ka meter rahega hum...  \n",
      "7  Click here to Subscribe *Star Plus* : https://...  \n",
      "8  We make the hardest choices to check if our th...  \n",
      "9  I can’t believe they asked that New Merch - ht...  \n",
      "                                               title  \\\n",
      "0     Happy Holi Babu | the mridul | Pragati | Nitin   \n",
      "1                         MY BEST HAPPY HOLI GADGETS   \n",
      "2                  HOLI DHAMAAL 2024 || Rachit Rojha   \n",
      "3  LOVE or ARRANGE MARRIGE ? QnA With My Wife 😂 D...   \n",
      "4  किससे छिप रहे है Dr.Haathi? | Taarak Mehta Ka ...   \n",
      "5  25 मार्च 2024 का चंद्र ग्रहण भारत में कितने बज...   \n",
      "6  The Great Indian Kapil Show Official Trailer |...   \n",
      "7  Ghum Hai Kisikey Pyaar Meiin | Ep.1164 | Highl...   \n",
      "8          Making The RIGHT Choice (HARD) | SlayyPop   \n",
      "9    I Paid A Lie Detector To Investigate My Friends   \n",
      "\n",
      "                                           url  \\\n",
      "0  https://www.youtube.com/watch?v=Xlkd8gdSNBo   \n",
      "1  https://www.youtube.com/watch?v=UDjvLknqNY8   \n",
      "2  https://www.youtube.com/watch?v=YoAPFqhLICc   \n",
      "3  https://www.youtube.com/watch?v=wT3b6OCIylU   \n",
      "4  https://www.youtube.com/watch?v=DgpC2De8bIc   \n",
      "5  https://www.youtube.com/watch?v=r0VCOp-3apE   \n",
      "6  https://www.youtube.com/watch?v=bftjfqS3v6k   \n",
      "7  https://www.youtube.com/watch?v=j95oz-teDrc   \n",
      "8  https://www.youtube.com/watch?v=bVXIqpecGO0   \n",
      "9  https://www.youtube.com/watch?v=YrVVXFMgXrw   \n",
      "\n",
      "                                       thumbnail_url            channel  \\\n",
      "0  https://i.ytimg.com/vi/Xlkd8gdSNBo/hqdefault.j...         The MriDul   \n",
      "1  https://i.ytimg.com/vi/UDjvLknqNY8/hqdefault.j...             Ujjwal   \n",
      "2                                               None       Rachit Rojha   \n",
      "3                                               None        Desi Gamers   \n",
      "4                                               None           Sony PAL   \n",
      "5                                               None  VK MISHRA PRESENT   \n",
      "6                                               None      Netflix India   \n",
      "7                                               None           StarPlus   \n",
      "8                                               None           SlayyPop   \n",
      "9                                               None          MrBeast 2   \n",
      "\n",
      "                                         description  \n",
      "0  Hello Doston👋🏻🥰 Download Zupee App: https://ap...  \n",
      "1  MY BEST HAPPY HOLI GADGETS #happyholi #technog...  \n",
      "2  Happy Holi Everyone 😍❤️ ----------------------...  \n",
      "3  Download Zupee Ludo - https://app.adjust.com/1...  \n",
      "4  Click here to subscribe to Sony Pal: https://w...  \n",
      "5  25 मार्च 2024 का चंद्र ग्रहण भारत में कितने बज...  \n",
      "6  India ho ya Mongolia, hasi ka meter rahega hum...  \n",
      "7  Click here to Subscribe *Star Plus* : https://...  \n",
      "8  We make the hardest choices to check if our th...  \n",
      "9  I can’t believe they asked that New Merch - ht...  \n",
      "Send the results over email\n",
      "Finished.\n"
     ]
    }
   ],
   "source": [
    "import smtplib\n",
    "import os\n",
    "import json\n",
    "from selenium import webdriver\n",
    "from selenium.webdriver.chrome.options import Options\n",
    "from selenium.webdriver.common.by import By\n",
    "\n",
    "\n",
    "YOUTUBE_TRENDING_URL = 'https://www.youtube.com/feed/trending'\n",
    "\n",
    "def get_driver():\n",
    "  chrome_options = Options()\n",
    "  chrome_options.add_argument('--no-sandbox')\n",
    "  chrome_options.add_argument('--headless')\n",
    "  chrome_options.add_argument('--disable-dev-shm-usage')\n",
    "  driver = webdriver.Chrome(options=chrome_options)\n",
    "  return driver\n",
    "\n",
    "def get_videos(driver):\n",
    "  VIDEO_DIV_TAG = 'ytd-video-renderer'\n",
    "  driver.get(YOUTUBE_TRENDING_URL)\n",
    "  videos = driver.find_elements(By.TAG_NAME, VIDEO_DIV_TAG)\n",
    "  return videos\n",
    "\n",
    "def parse_video(video):\n",
    "  title_tag = video.find_element(By.ID, 'video-title')\n",
    "  title = title_tag.text\n",
    "  url = title_tag.get_attribute('href')\n",
    "  \n",
    "  thumbnail_tag = video.find_element(By.TAG_NAME, 'img')\n",
    "  thumbnail_url = thumbnail_tag.get_attribute('src')\n",
    "\n",
    "  channel_div = video.find_element(By.CLASS_NAME, 'ytd-channel-name')\n",
    "  channel_name = channel_div.text\n",
    "  \n",
    "  description = video.find_element(By.ID, 'description-text').text\n",
    "\n",
    "  return {\n",
    "    'title': title,\n",
    "    'url': url,\n",
    "    'thumbnail_url': thumbnail_url,\n",
    "    'channel': channel_name,\n",
    "    'description': description\n",
    "  }\n",
    "\n",
    "def send_email(body):\n",
    "  try:\n",
    "    server_ssl = smtplib.SMTP_SSL('smtp.gmail.com', 465)\n",
    "    server_ssl.ehlo()   \n",
    "\n",
    "    SENDER_EMAIL = 'rythammaalpani44@gmail.com'\n",
    "    RECEIVER_EMAIL = 'frellancerytham@gmail.com'\n",
    "    SENDER_PASSWORD = os.environ['GMAIL_PASSWORD']\n",
    "\n",
    "    \n",
    "    subject = 'YouTube Trending Videos'\n",
    "\n",
    "    email_text = f\"\"\"\n",
    "        From: {SENDER_EMAIL}\n",
    "        To: {RECEIVER_EMAIL}\n",
    "        Subject: {subject}\n",
    "        \n",
    "        {body}\n",
    "    \"\"\"\n",
    "\n",
    "\n",
    "    server_ssl.login(SENDER_EMAIL, SENDER_PASSWORD)\n",
    "    server_ssl.sendmail(SENDER_EMAIL, RECEIVER_EMAIL, email_text)\n",
    "    server_ssl.close()\n",
    "\n",
    "  except:\n",
    "      print('Something went wrong...')\n",
    "\n",
    "\n",
    "if __name__ == \"__main__\":\n",
    "  print('Creating driver')\n",
    "  driver = get_driver()\n",
    "\n",
    "  print('Fetching trending videos')\n",
    "  videos = get_videos(driver)\n",
    "  \n",
    "  print(f'Found {len(videos)} videos')\n",
    "\n",
    "  print('Parsing top 10 videos')\n",
    "  videos_data = [parse_video(video) for video in videos[:10]]\n",
    "  \n",
    "  print('Save the data to a CSV')\n",
    "  videos_df = pd.DataFrame(videos_data)\n",
    "  videos_df.to_csv('trending.csv', index=None)\n",
    "  print(\"Send the results over email\")\n",
    "  body = json.dumps(videos_data, indent=2)\n",
    "  send_email(body)\n",
    "\n",
    "  print('Finished.')\n"
   ]
  },
  {
   "cell_type": "markdown",
   "id": "a91cd024-1cb9-4baf-9b2c-4a07ddb8e96e",
   "metadata": {},
   "source": [
    "## Future Work \n",
    "-  Enhanced Data Analysis: Extend the project to include data analysis capabilities, such as calculating average view counts, identifying trending patterns over time, or analyzing correlations between video metrics (e.g., views, likes, comments).\n",
    "-  Social Media Sharing: Enable sharing of trending videos directly to social media platforms (e.g., Twitter, Facebook) from within the TubeTracker interface, allowing users to share interesting videos with their followers."
   ]
  },
  {
   "cell_type": "markdown",
   "id": "0707cdc8-d1af-46f3-8f31-ad0555ba3cbc",
   "metadata": {},
   "source": [
    "## References\n",
    "[1] Python offical documentation. https://docs.python.org/3/\n",
    "\n",
    "[2] Sending Email with Python: https://stackabuse.com/how-to-send-emails-with-gmail-using-python/\n",
    "\n",
    "[3] Selenium tutorial: https://www.browserstack.com/guide/python-selenium-to-run-web-automation-test\n",
    "\n",
    "[4] Aakash N S,Workshop - Web Scraping with Selenium & AWS, https://jovian.com/learn/introduction-to-programming-with-python/lesson/workshop-web-scraping-with-selenium-aws-python\n",
    "\n",
    "[5] Pandas library documentation. https://pandas.pydata.org/docs/\n",
    "\n",
    "[6] Working with Jupyter Notebook https://towardsdatascience.com/write-markdown-latex-in-the-jupyter-notebook-10985edb91fd"
   ]
  },
  {
   "cell_type": "code",
   "execution_count": null,
   "id": "f73b61f7-05dd-4b02-8e00-2ea65a6f9901",
   "metadata": {},
   "outputs": [],
   "source": []
  },
  {
   "cell_type": "code",
   "execution_count": null,
   "id": "bb910dcf-fe18-44e4-a3b4-d23526a0ad9a",
   "metadata": {},
   "outputs": [],
   "source": []
  },
  {
   "cell_type": "code",
   "execution_count": null,
   "id": "f11d61b2-f1af-427c-9b5e-a38d3a4e2604",
   "metadata": {},
   "outputs": [],
   "source": []
  },
  {
   "cell_type": "code",
   "execution_count": null,
   "id": "1572c903-c4bb-47b7-aca9-d696150f99c5",
   "metadata": {},
   "outputs": [],
   "source": []
  },
  {
   "cell_type": "code",
   "execution_count": null,
   "id": "dab493d2-5964-4402-ab0f-a1a4730588bc",
   "metadata": {},
   "outputs": [],
   "source": []
  }
 ],
 "metadata": {
  "kernelspec": {
   "display_name": "Python 3 (ipykernel)",
   "language": "python",
   "name": "python3"
  },
  "language_info": {
   "codemirror_mode": {
    "name": "ipython",
    "version": 3
   },
   "file_extension": ".py",
   "mimetype": "text/x-python",
   "name": "python",
   "nbconvert_exporter": "python",
   "pygments_lexer": "ipython3",
   "version": "3.11.7"
  }
 },
 "nbformat": 4,
 "nbformat_minor": 5
}
